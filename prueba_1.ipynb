{
  "nbformat": 4,
  "nbformat_minor": 0,
  "metadata": {
    "colab": {
      "provenance": [],
      "authorship_tag": "ABX9TyOKXd8yMHOqEt2hPXOpHm//"
    },
    "kernelspec": {
      "name": "python3",
      "display_name": "Python 3"
    },
    "language_info": {
      "name": "python"
    }
  },
  "cells": [
    {
      "cell_type": "code",
      "execution_count": null,
      "metadata": {
        "id": "ZUvk1cSDjTER"
      },
      "outputs": [],
      "source": [
        "#esto es una prueba de como usar google colab en github"
      ]
    }
  ]
}