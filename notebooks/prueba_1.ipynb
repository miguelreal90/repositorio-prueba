{
  "nbformat": 4,
  "nbformat_minor": 0,
  "metadata": {
    "colab": {
      "provenance": [],
      "toc_visible": true,
      "authorship_tag": "ABX9TyOVkb2fA0reTyhCZ16NBj7s",
      "include_colab_link": true
    },
    "kernelspec": {
      "name": "python3",
      "display_name": "Python 3"
    },
    "language_info": {
      "name": "python"
    }
  },
  "cells": [
    {
      "cell_type": "markdown",
      "metadata": {
        "id": "view-in-github",
        "colab_type": "text"
      },
      "source": [
        "<a href=\"https://colab.research.google.com/github/miguelreal90/repositorio-prueba/blob/main/notebooks/prueba_1.ipynb\" target=\"_parent\"><img src=\"https://colab.research.google.com/assets/colab-badge.svg\" alt=\"Open In Colab\"/></a>"
      ]
    },
    {
      "cell_type": "code",
      "execution_count": null,
      "metadata": {
        "id": "ZUvk1cSDjTER"
      },
      "outputs": [],
      "source": [
        "#esto es una prueba de como usar google colab en github"
      ]
    },
    {
      "cell_type": "code",
      "source": [
        "#esto es otra prueba de el segundo commit de colab"
      ],
      "metadata": {
        "id": "hCBsUW6ZkPwV"
      },
      "execution_count": null,
      "outputs": []
    }
  ]
}